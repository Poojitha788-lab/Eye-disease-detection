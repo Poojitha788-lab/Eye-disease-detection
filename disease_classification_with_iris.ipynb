{
  "metadata": {
    "kernelspec": {
      "language": "python",
      "display_name": "Python 3",
      "name": "python3"
    },
    "language_info": {
      "name": "python",
      "version": "3.7.12",
      "mimetype": "text/x-python",
      "codemirror_mode": {
        "name": "ipython",
        "version": 3
      },
      "pygments_lexer": "ipython3",
      "nbconvert_exporter": "python",
      "file_extension": ".py"
    },
    "kaggle": {
      "accelerator": "nvidiaTeslaT4",
      "dataSources": [
        {
          "sourceId": 1512919,
          "sourceType": "datasetVersion",
          "datasetId": 611716
        }
      ],
      "dockerImageVersionId": 30408,
      "isInternetEnabled": true,
      "language": "python",
      "sourceType": "notebook",
      "isGpuEnabled": true
    },
    "colab": {
      "name": "disease_classification_with_iris",
      "provenance": [],
      "include_colab_link": true
    }
  },
  "nbformat_minor": 0,
  "nbformat": 4,
  "cells": [
    {
      "cell_type": "markdown",
      "metadata": {
        "id": "view-in-github",
        "colab_type": "text"
      },
      "source": [
        "<a href=\"https://colab.research.google.com/github/Poojitha788-lab/Eye-disease-detection/blob/main/disease_classification_with_iris.ipynb\" target=\"_parent\"><img src=\"https://colab.research.google.com/assets/colab-badge.svg\" alt=\"Open In Colab\"/></a>"
      ]
    },
    {
      "source": [
        "# IMPORTANT: RUN THIS CELL IN ORDER TO IMPORT YOUR KAGGLE DATA SOURCES,\n",
        "# THEN FEEL FREE TO DELETE THIS CELL.\n",
        "# NOTE: THIS NOTEBOOK ENVIRONMENT DIFFERS FROM KAGGLE'S PYTHON\n",
        "# ENVIRONMENT SO THERE MAY BE MISSING LIBRARIES USED BY YOUR\n",
        "# NOTEBOOK.\n",
        "import kagglehub\n",
        "andrewmvd_ocular_disease_recognition_odir5k_path = kagglehub.dataset_download('andrewmvd/ocular-disease-recognition-odir5k')\n",
        "\n",
        "print('Data source import complete.')\n"
      ],
      "metadata": {
        "id": "rzQtvWbB-b5p"
      },
      "cell_type": "code",
      "outputs": [],
      "execution_count": null
    },
    {
      "cell_type": "code",
      "source": [
        "# This Python 3 environment comes with many helpful analytics libraries installed\n",
        "# It is defined by the kaggle/python Docker image: https://github.com/kaggle/docker-python\n",
        "# For example, here's several helpful packages to load\n",
        "\n",
        "import numpy as np # linear algebra\n",
        "import pandas as pd # data processing, CSV file I/O (e.g. pd.read_csv)\n",
        "\n",
        "# Input data files are available in the read-only \"../input/\" directory\n",
        "# For example, running this (by clicking run or pressing Shift+Enter) will list all files under the input directory\n",
        "\n",
        "import os\n",
        "# for dirname, _, filenames in os.walk('/kaggle/input'):\n",
        "#     for filename in filenames:\n",
        "#         print(os.path.join(dirname, filename))\n",
        "\n",
        "# You can write up to 20GB to the current directory (/kaggle/working/) that gets preserved as output when you create a version using \"Save & Run All\"\n",
        "# You can also write temporary files to /kaggle/temp/, but they won't be saved outside of the current session"
      ],
      "metadata": {
        "_uuid": "8f2839f25d086af736a60e9eeb907d3b93b6e0e5",
        "_cell_guid": "b1076dfc-b9ad-4769-8c92-a6c4dae69d19",
        "execution": {
          "iopub.status.busy": "2024-07-03T07:04:05.147136Z",
          "iopub.execute_input": "2024-07-03T07:04:05.147809Z",
          "iopub.status.idle": "2024-07-03T07:04:05.172044Z",
          "shell.execute_reply.started": "2024-07-03T07:04:05.147776Z",
          "shell.execute_reply": "2024-07-03T07:04:05.171137Z"
        },
        "trusted": true,
        "id": "aOaj_c6r-b5t"
      },
      "execution_count": null,
      "outputs": []
    },
    {
      "cell_type": "markdown",
      "source": [
        "**First we'll be importing all the necessary libraries**"
      ],
      "metadata": {
        "id": "-7czJ07m-b5u"
      }
    },
    {
      "cell_type": "code",
      "source": [
        "#pip install tensorflow==2.5"
      ],
      "metadata": {
        "execution": {
          "iopub.status.busy": "2023-10-30T14:23:18.784031Z",
          "iopub.execute_input": "2023-10-30T14:23:18.784646Z",
          "iopub.status.idle": "2023-10-30T14:23:18.788898Z",
          "shell.execute_reply.started": "2023-10-30T14:23:18.784607Z",
          "shell.execute_reply": "2023-10-30T14:23:18.787887Z"
        },
        "trusted": true,
        "id": "wKLKWi1S-b5w"
      },
      "execution_count": null,
      "outputs": []
    },
    {
      "cell_type": "code",
      "source": [
        "import cv2\n",
        "import random\n",
        "from tqdm import tqdm\n",
        "import matplotlib.pyplot as plt\n",
        "from tensorflow.keras.preprocessing.image import ImageDataGenerator"
      ],
      "metadata": {
        "execution": {
          "iopub.status.busy": "2024-07-03T07:04:21.412417Z",
          "iopub.execute_input": "2024-07-03T07:04:21.41334Z",
          "iopub.status.idle": "2024-07-03T07:04:29.062301Z",
          "shell.execute_reply.started": "2024-07-03T07:04:21.413299Z",
          "shell.execute_reply": "2024-07-03T07:04:29.061342Z"
        },
        "trusted": true,
        "id": "cJDhPl06-b5x"
      },
      "execution_count": null,
      "outputs": []
    },
    {
      "cell_type": "markdown",
      "source": [
        "**Reading the datasets from the directory**"
      ],
      "metadata": {
        "id": "nrAv1NUV-b5y"
      }
    },
    {
      "cell_type": "code",
      "source": [
        "data = pd.read_csv(\"/kaggle/input/ocular-disease-recognition-odir5k/full_df.csv\")\n",
        "data.head(20)"
      ],
      "metadata": {
        "execution": {
          "iopub.status.busy": "2024-07-03T07:04:49.416359Z",
          "iopub.execute_input": "2024-07-03T07:04:49.417789Z",
          "iopub.status.idle": "2024-07-03T07:04:49.502797Z",
          "shell.execute_reply.started": "2024-07-03T07:04:49.417746Z",
          "shell.execute_reply": "2024-07-03T07:04:49.501839Z"
        },
        "trusted": true,
        "id": "lF_zDYqq-b5y"
      },
      "execution_count": null,
      "outputs": []
    },
    {
      "cell_type": "code",
      "source": [
        "def has_condn(term,text):\n",
        "    if term in text:\n",
        "        return 1\n",
        "    else:\n",
        "        return 0"
      ],
      "metadata": {
        "execution": {
          "iopub.status.busy": "2024-07-03T07:04:54.27797Z",
          "iopub.execute_input": "2024-07-03T07:04:54.278757Z",
          "iopub.status.idle": "2024-07-03T07:04:54.283805Z",
          "shell.execute_reply.started": "2024-07-03T07:04:54.278719Z",
          "shell.execute_reply": "2024-07-03T07:04:54.282652Z"
        },
        "trusted": true,
        "id": "zN2_kFXG-b5z"
      },
      "execution_count": null,
      "outputs": []
    },
    {
      "cell_type": "markdown",
      "source": [
        "Attaching labels based whether cataract is present on which eye (left/right)"
      ],
      "metadata": {
        "id": "msGZZ8kO-b5z"
      }
    },
    {
      "cell_type": "code",
      "source": [
        "import pandas as pd\n",
        "import matplotlib.pyplot as plt\n",
        "\n",
        "gender_counts = data['Patient Sex'].value_counts()\n",
        "colors=['skyblue','pink']\n",
        "plt.pie(gender_counts, labels=gender_counts.index, autopct='%1.1f%%', startangle=90,colors=colors)\n",
        "\n",
        "plt.title('Distribution of Patient Sex ')\n",
        "\n",
        "plt.axis('equal')\n",
        "plt.show()\n"
      ],
      "metadata": {
        "execution": {
          "iopub.status.busy": "2024-07-03T07:05:29.942393Z",
          "iopub.execute_input": "2024-07-03T07:05:29.9431Z",
          "iopub.status.idle": "2024-07-03T07:05:30.101345Z",
          "shell.execute_reply.started": "2024-07-03T07:05:29.94306Z",
          "shell.execute_reply": "2024-07-03T07:05:30.099862Z"
        },
        "trusted": true,
        "id": "nqylAb_v-b50"
      },
      "execution_count": null,
      "outputs": []
    },
    {
      "cell_type": "code",
      "source": [
        "filtered_data = data[(data['Left-Diagnostic Keywords'] == 'normal fundus') & (data['Right-Diagnostic Keywords'] == 'normal fundus')]\n",
        "\n",
        "gender_counts = filtered_data['Patient Sex'].value_counts()\n",
        "colors=['skyblue','pink']\n",
        "gender_counts.plot(kind='bar', rot=0,color=colors)\n",
        "\n",
        "plt.xlabel('Patient Sex')\n",
        "plt.ylabel('Count')\n",
        "plt.title('Distribution of Male and Female Patients with Normal Fundus')\n",
        "\n",
        "plt.show()"
      ],
      "metadata": {
        "execution": {
          "iopub.status.busy": "2024-07-03T07:05:33.351943Z",
          "iopub.execute_input": "2024-07-03T07:05:33.352846Z",
          "iopub.status.idle": "2024-07-03T07:05:33.566965Z",
          "shell.execute_reply.started": "2024-07-03T07:05:33.352793Z",
          "shell.execute_reply": "2024-07-03T07:05:33.565827Z"
        },
        "trusted": true,
        "id": "HeZOHCy1-b50"
      },
      "execution_count": null,
      "outputs": []
    },
    {
      "cell_type": "code",
      "source": [
        "senior_citizens = data[(data['Left-Diagnostic Keywords'] == 'normal fundus') & (data['Right-Diagnostic Keywords'] == 'normal fundus') &(data['Patient Age'] >= 65)]\n",
        "colors=['skyblue','pink']\n",
        "gender_counts.plot(kind='bar', rot=0,color=colors)\n",
        "\n",
        "plt.xlabel('Patient Sex')\n",
        "plt.ylabel('Count')\n",
        "plt.title('Distribution of Male and Female senior citizens with normal fundus ')\n",
        "plt.show()"
      ],
      "metadata": {
        "execution": {
          "iopub.status.busy": "2024-07-03T07:05:36.422897Z",
          "iopub.execute_input": "2024-07-03T07:05:36.42371Z",
          "iopub.status.idle": "2024-07-03T07:05:36.629238Z",
          "shell.execute_reply.started": "2024-07-03T07:05:36.423665Z",
          "shell.execute_reply": "2024-07-03T07:05:36.628108Z"
        },
        "trusted": true,
        "id": "Mvlu8Zsp-b51"
      },
      "execution_count": null,
      "outputs": []
    },
    {
      "cell_type": "code",
      "source": [
        "\n",
        "\n",
        "#data[data.O==1].head(20)  #drusen or epiretinal membrane\n",
        "\n",
        "def process_dataset(data):\n",
        "    #create 2 more columns labelling them whether right or left cataract\n",
        "    data[\"left_cataract\"] = data[\"Left-Diagnostic Keywords\"].apply(lambda x: has_condn(\"cataract\",x))\n",
        "    data[\"right_cataract\"] = data[\"Right-Diagnostic Keywords\"].apply(lambda x: has_condn(\"cataract\",x))\n",
        "\n",
        "    data[\"LD\"] = data[\"Left-Diagnostic Keywords\"].apply(lambda x: has_condn(\"non proliferative retinopathy\",x))\n",
        "    data[\"RD\"] = data[\"Right-Diagnostic Keywords\"].apply(lambda x: has_condn(\"non proliferative retinopathy\",x))\n",
        "\n",
        "    data[\"LG\"] = data[\"Left-Diagnostic Keywords\"].apply(lambda x: has_condn(\"glaucoma\",x))\n",
        "    data[\"RG\"] = data[\"Right-Diagnostic Keywords\"].apply(lambda x: has_condn(\"glaucoma\",x))\n",
        "\n",
        "    data[\"LH\"] = data[\"Left-Diagnostic Keywords\"].apply(lambda x: has_condn(\"hypertensive\",x))\n",
        "    data[\"RH\"] = data[\"Right-Diagnostic Keywords\"].apply(lambda x: has_condn(\"hypertensive\",x))\n",
        "\n",
        "    data[\"LM\"] = data[\"Left-Diagnostic Keywords\"].apply(lambda x: has_condn(\"myopia\",x))\n",
        "    data[\"RM\"] = data[\"Right-Diagnostic Keywords\"].apply(lambda x: has_condn(\"myopia\",x))\n",
        "\n",
        "    data[\"LA\"] = data[\"Left-Diagnostic Keywords\"].apply(lambda x: has_condn(\"macular degeneration\",x))\n",
        "    data[\"RA\"] = data[\"Right-Diagnostic Keywords\"].apply(lambda x: has_condn(\"macular degeneration\",x))\n",
        "\n",
        "    data[\"LO\"] = data[\"Left-Diagnostic Keywords\"].apply(lambda x: has_condn(\"drusen\",x))\n",
        "    data[\"RO\"] = data[\"Right-Diagnostic Keywords\"].apply(lambda x: has_condn(\"drusen\",x))\n",
        "\n",
        "    #store the right/left cataract images ids in a array\n",
        "    left_cataract_images = data.loc[(data.C ==1) & (data.left_cataract == 1)][\"Left-Fundus\"].values\n",
        "    right_cataract_images = data.loc[(data.C == 1) & (data.right_cataract == 1)][\"Right-Fundus\"].values\n",
        "\n",
        "    #store the left/right normal image ids in a array\n",
        "    left_normal = data.loc[(data.C == 0) & (data[\"Left-Diagnostic Keywords\"] == \"normal fundus\")]['Left-Fundus'].sample(350,random_state=42).values\n",
        "    right_normal = data.loc[(data.C == 0) & (data[\"Right-Diagnostic Keywords\"] == \"normal fundus\")]['Right-Fundus'].sample(350,random_state=42).values\n",
        "\n",
        "    #store the left/right diabetes image ids\n",
        "    left_diab = data.loc[(data.C == 0) & (data.LD == 1)][\"Left-Fundus\"].values\n",
        "    right_diab = data.loc[(data.C == 0) & (data.RD == 1)][\"Right-Fundus\"].values\n",
        "\n",
        "    #store the left/right glaucoma image ids\n",
        "    left_glaucoma = data.loc[(data.C == 0) & (data.LG == 1)][\"Left-Fundus\"].values\n",
        "    right_glaucoma = data.loc[(data.C == 0) & (data.RG == 1)][\"Right-Fundus\"].values\n",
        "\n",
        "    #store the left/right diabetes image ids\n",
        "    left_hyper = data.loc[(data.C == 0) & (data.LH == 1)][\"Left-Fundus\"].values\n",
        "    right_hyper = data.loc[(data.C == 0) & (data.RH == 1)][\"Right-Fundus\"].values\n",
        "\n",
        "    #store the left/right diabetes image ids\n",
        "    left_myopia = data.loc[(data.C == 0) & (data.LM == 1)][\"Left-Fundus\"].values\n",
        "    right_myopia = data.loc[(data.C == 0) & (data.RM == 1)][\"Right-Fundus\"].values\n",
        "\n",
        "    #store the left/right diabetes image ids\n",
        "    left_age = data.loc[(data.C == 0) & (data.LA == 1)][\"Left-Fundus\"].values\n",
        "    right_age = data.loc[(data.C == 0) & (data.RA == 1)][\"Right-Fundus\"].values\n",
        "\n",
        "    #store the left/right diabetes image ids\n",
        "    left_other = data.loc[(data.C == 0) & (data.LO == 1)][\"Left-Fundus\"].values\n",
        "    right_other = data.loc[(data.C == 0) & (data.RO == 1)][\"Right-Fundus\"].values\n",
        "\n",
        "    normalones = np.concatenate((left_normal,right_normal),axis = 0);\n",
        "    cataractones = np.concatenate((left_cataract_images,right_cataract_images),axis = 0);\n",
        "    diabones = np.concatenate((left_diab,right_diab),axis = 0);\n",
        "    glaucoma = np.concatenate((left_glaucoma,right_glaucoma),axis = 0);\n",
        "    hyper = np.concatenate((left_hyper,right_hyper),axis = 0);\n",
        "    myopia = np.concatenate((left_myopia,right_myopia),axis = 0);\n",
        "    age = np.concatenate((left_age,right_age),axis=0);\n",
        "    other = np.concatenate((left_other,right_other),axis = 0);\n",
        "\n",
        "    return normalones,cataractones,diabones,glaucoma,hyper,myopia,age,other;"
      ],
      "metadata": {
        "execution": {
          "iopub.status.busy": "2024-07-03T07:05:47.502698Z",
          "iopub.execute_input": "2024-07-03T07:05:47.503055Z",
          "iopub.status.idle": "2024-07-03T07:05:47.529588Z",
          "shell.execute_reply.started": "2024-07-03T07:05:47.503025Z",
          "shell.execute_reply": "2024-07-03T07:05:47.528521Z"
        },
        "trusted": true,
        "id": "7rtYCy-v-b51"
      },
      "execution_count": null,
      "outputs": []
    },
    {
      "cell_type": "code",
      "source": [
        "normal , cataract , diab, glaucoma , hyper , myopia , age, other = process_dataset(data);\n",
        "\n",
        "print(\"Dataset stats::\")\n",
        "print(\"Normal ::\" , len(normal))\n",
        "print(\"Cataract ::\" , len(cataract))\n",
        "print(\"Diabetes ::\" , len(diab))\n",
        "print(\"Glaucoma ::\" , len(glaucoma))\n",
        "print(\"Hypertension ::\" , len(hyper))\n",
        "print(\"Myopia ::\" , len(myopia))\n",
        "print(\"Age Issues ::\" , len(age))\n",
        "print(\"Other ::\" , len(other))"
      ],
      "metadata": {
        "execution": {
          "iopub.status.busy": "2024-07-03T07:06:01.359523Z",
          "iopub.execute_input": "2024-07-03T07:06:01.360396Z",
          "iopub.status.idle": "2024-07-03T07:06:01.463393Z",
          "shell.execute_reply.started": "2024-07-03T07:06:01.360358Z",
          "shell.execute_reply": "2024-07-03T07:06:01.462415Z"
        },
        "trusted": true,
        "id": "_l4LF2lF-b53"
      },
      "execution_count": null,
      "outputs": []
    },
    {
      "cell_type": "code",
      "source": [
        "from tensorflow.keras.preprocessing.image import load_img,img_to_array\n",
        "dataset_dir = \"/kaggle/input/ocular-disease-recognition-odir5k/preprocessed_images\"\n",
        "image_size=224\n",
        "labels = []\n",
        "dataset = []\n",
        "def dataset_generator(imagecategory , label):\n",
        "    for img in tqdm(imagecategory):\n",
        "        imgpath = os.path.join(dataset_dir,img);\n",
        "\n",
        "        #now we try to read the image and resize it accordingly\n",
        "        try:\n",
        "            image = cv2.imread(imgpath,cv2.IMREAD_COLOR)\n",
        "            image = cv2.resize(image,(image_size,image_size))\n",
        "        except:\n",
        "            continue;\n",
        "        dataset.append([np.array(image),np.array(label)]);\n",
        "    random.shuffle(dataset);\n",
        "\n",
        "    return dataset;"
      ],
      "metadata": {
        "execution": {
          "iopub.status.busy": "2024-07-03T07:06:04.212269Z",
          "iopub.execute_input": "2024-07-03T07:06:04.21294Z",
          "iopub.status.idle": "2024-07-03T07:06:04.221106Z",
          "shell.execute_reply.started": "2024-07-03T07:06:04.212902Z",
          "shell.execute_reply": "2024-07-03T07:06:04.219997Z"
        },
        "trusted": true,
        "id": "egz1eE7y-b55"
      },
      "execution_count": null,
      "outputs": []
    },
    {
      "cell_type": "markdown",
      "source": [
        "Generating Dataset"
      ],
      "metadata": {
        "id": "-8DzEc7D-b56"
      }
    },
    {
      "cell_type": "code",
      "source": [
        "# Normal == 0\n",
        "# Cataract == 1\n",
        "# Diabetes == 2\n",
        "# Glaucoma == 3\n",
        "# HyperTension == 4\n",
        "# Myopia == 5\n",
        "# Age == 6\n",
        "# Other == 7\n",
        "\n",
        "dataset = dataset_generator(normal,0)\n",
        "dataset = dataset_generator(cataract,1)\n",
        "dataset = dataset_generator(diab,2)\n",
        "dataset = dataset_generator(glaucoma,3)\n",
        "dataset = dataset_generator(hyper,4)\n",
        "dataset = dataset_generator(myopia,5)\n",
        "dataset = dataset_generator(age,6)\n",
        "dataset = dataset_generator(other,7)\n",
        "\n",
        "len(dataset)\n"
      ],
      "metadata": {
        "execution": {
          "iopub.status.busy": "2024-07-03T07:06:09.718341Z",
          "iopub.execute_input": "2024-07-03T07:06:09.719387Z",
          "iopub.status.idle": "2024-07-03T07:06:56.198578Z",
          "shell.execute_reply.started": "2024-07-03T07:06:09.719336Z",
          "shell.execute_reply": "2024-07-03T07:06:56.197583Z"
        },
        "trusted": true,
        "id": "7IxN2lCT-b56"
      },
      "execution_count": null,
      "outputs": []
    },
    {
      "cell_type": "code",
      "source": [
        "plt.figure(figsize=(12,7))\n",
        "for i in range(10):\n",
        "    sample = random.choice(range(len(dataset)))\n",
        "    image = dataset[sample][0]\n",
        "    category = dataset[sample][1]\n",
        "\n",
        "    if category== 0:\n",
        "        label = \"Normal\"\n",
        "    elif category == 1 :\n",
        "        label = \"Cataract\"\n",
        "    elif category == 2:\n",
        "        label = \"Diabetes\"\n",
        "    elif category == 3:\n",
        "        label = \"Glaucoma\"\n",
        "    elif category == 4:\n",
        "        label = \"Hypertension\"\n",
        "    elif category == 5:\n",
        "        label = \"Myopia\"\n",
        "    elif category == 6:\n",
        "        label = \"Age Issues\"\n",
        "    else:\n",
        "        label = \"Other\"\n",
        "\n",
        "    plt.subplot(2,6,i+1)\n",
        "    plt.imshow(image)\n",
        "    plt.xlabel(label)\n",
        "plt.tight_layout()"
      ],
      "metadata": {
        "execution": {
          "iopub.status.busy": "2024-07-03T07:07:03.133339Z",
          "iopub.execute_input": "2024-07-03T07:07:03.133731Z",
          "iopub.status.idle": "2024-07-03T07:07:04.694051Z",
          "shell.execute_reply.started": "2024-07-03T07:07:03.133695Z",
          "shell.execute_reply": "2024-07-03T07:07:04.692986Z"
        },
        "trusted": true,
        "id": "p8l33qk4-b57"
      },
      "execution_count": null,
      "outputs": []
    },
    {
      "cell_type": "code",
      "source": [
        "#Divide the dataset into 2 predictors and target...\n",
        "#here predictors would be the image and target would be the label\n",
        "\n",
        "train_x = np.array([i[0] for i in dataset]).reshape(-1,image_size,image_size,3);\n",
        "train_y = np.array([i[1] for i in dataset])\n",
        "\n",
        "from sklearn.model_selection import train_test_split\n",
        "from tensorflow.keras.utils import to_categorical\n",
        "#splitting the dataset\n",
        "x_train , x_test , y_train, y_test = train_test_split(train_x,train_y, test_size=0.2)\n",
        "\n",
        "y_train_cat = to_categorical(y_train,num_classes=8)\n",
        "\n",
        "y_test_cat = to_categorical(y_test,num_classes = 8)\n"
      ],
      "metadata": {
        "execution": {
          "iopub.status.busy": "2024-07-03T07:07:09.419344Z",
          "iopub.execute_input": "2024-07-03T07:07:09.420026Z",
          "iopub.status.idle": "2024-07-03T07:07:10.208439Z",
          "shell.execute_reply.started": "2024-07-03T07:07:09.419986Z",
          "shell.execute_reply": "2024-07-03T07:07:10.207488Z"
        },
        "trusted": true,
        "id": "5qWP-SDC-b58"
      },
      "execution_count": null,
      "outputs": []
    },
    {
      "cell_type": "markdown",
      "source": [],
      "metadata": {
        "id": "eLMPeoqk-b59"
      }
    },
    {
      "cell_type": "markdown",
      "source": [
        "Creating the Model"
      ],
      "metadata": {
        "id": "2C3Ofqlu-b59"
      }
    },
    {
      "cell_type": "code",
      "source": [
        "from tensorflow.keras.applications.vgg19 import VGG19\n",
        "import tensorflow as tf\n",
        "vgg = VGG19(weights=\"imagenet\",include_top = False,input_shape=(image_size,image_size,3))\n",
        "\n",
        "for layer in vgg.layers:\n",
        "    layer.trainable = False\n",
        "\n",
        "from tensorflow.keras import Sequential\n",
        "from tensorflow.keras.layers import Flatten,Dense\n",
        "model = Sequential()\n",
        "model.add(vgg)\n",
        "model.add(Flatten())\n",
        "model.add(Dense(256,activation = \"relu\"))\n",
        "model.add(tf.keras.layers.BatchNormalization())\n",
        "model.add(Dense(256,activation = \"relu\"))\n",
        "model.add(tf.keras.layers.BatchNormalization())\n",
        "model.add(Dense(8,activation=\"softmax\"))\n",
        "\n",
        "model.summary()"
      ],
      "metadata": {
        "scrolled": true,
        "execution": {
          "iopub.status.busy": "2024-07-03T07:07:35.271699Z",
          "iopub.execute_input": "2024-07-03T07:07:35.27213Z",
          "iopub.status.idle": "2024-07-03T07:07:39.425129Z",
          "shell.execute_reply.started": "2024-07-03T07:07:35.272082Z",
          "shell.execute_reply": "2024-07-03T07:07:39.424088Z"
        },
        "trusted": true,
        "id": "icGS92NN-b59"
      },
      "execution_count": null,
      "outputs": []
    },
    {
      "cell_type": "code",
      "source": [
        "model.compile(optimizer=\"adam\",loss=\"categorical_crossentropy\",metrics=[\"accuracy\"])\n",
        "#u might have to apply train_generator and test_generator\n",
        "history = model.fit(x_train,y_train_cat,batch_size=32,epochs=15)\n",
        "print(history)"
      ],
      "metadata": {
        "execution": {
          "iopub.status.busy": "2024-07-03T07:08:04.783183Z",
          "iopub.execute_input": "2024-07-03T07:08:04.784418Z",
          "iopub.status.idle": "2024-07-03T07:13:40.034368Z",
          "shell.execute_reply.started": "2024-07-03T07:08:04.784348Z",
          "shell.execute_reply": "2024-07-03T07:13:40.033352Z"
        },
        "trusted": true,
        "id": "JGbWLigg-b5-"
      },
      "execution_count": null,
      "outputs": []
    },
    {
      "cell_type": "code",
      "source": [
        "loss,accuracy = model.evaluate(x_test,y_test_cat)\n",
        "print(\"Accuracy:\",accuracy)"
      ],
      "metadata": {
        "execution": {
          "iopub.status.busy": "2024-07-03T07:21:15.064722Z",
          "iopub.execute_input": "2024-07-03T07:21:15.065865Z",
          "iopub.status.idle": "2024-07-03T07:21:26.256744Z",
          "shell.execute_reply.started": "2024-07-03T07:21:15.065811Z",
          "shell.execute_reply": "2024-07-03T07:21:26.255715Z"
        },
        "trusted": true,
        "id": "9DVcBBTn-b5-"
      },
      "execution_count": null,
      "outputs": []
    },
    {
      "cell_type": "code",
      "source": [
        "from sklearn.metrics import confusion_matrix,classification_report,accuracy_score\n",
        "# y_pred = np.array((model.predict(x_test) > 0.5).astype(\"int32\"))\n",
        "\n",
        "y_pred = []\n",
        "for i in model.predict(x_test):\n",
        "    y_pred.append(np.argmax(np.array(i)).astype(\"int32\"))\n",
        "\n",
        "print(y_pred)"
      ],
      "metadata": {
        "execution": {
          "iopub.status.busy": "2024-07-03T07:21:26.258895Z",
          "iopub.execute_input": "2024-07-03T07:21:26.259228Z",
          "iopub.status.idle": "2024-07-03T07:21:32.430495Z",
          "shell.execute_reply.started": "2024-07-03T07:21:26.259197Z",
          "shell.execute_reply": "2024-07-03T07:21:32.429436Z"
        },
        "trusted": true,
        "id": "I8rbw9kx-b5_"
      },
      "execution_count": null,
      "outputs": []
    },
    {
      "cell_type": "code",
      "source": [
        "print(accuracy_score(y_test,y_pred))"
      ],
      "metadata": {
        "execution": {
          "iopub.status.busy": "2024-07-03T07:21:32.431796Z",
          "iopub.execute_input": "2024-07-03T07:21:32.432145Z",
          "iopub.status.idle": "2024-07-03T07:21:32.438855Z",
          "shell.execute_reply.started": "2024-07-03T07:21:32.432113Z",
          "shell.execute_reply": "2024-07-03T07:21:32.437801Z"
        },
        "trusted": true,
        "id": "aBPjuFiD-b5_"
      },
      "execution_count": null,
      "outputs": []
    },
    {
      "cell_type": "code",
      "source": [
        "plt.figure(figsize=(12,7))\n",
        "for i in range(20):\n",
        "    sample = random.choice(range(len(x_test)))\n",
        "    image = x_test[sample]\n",
        "    category = y_test[sample]\n",
        "    pred_category = y_pred[sample]\n",
        "\n",
        "    if category== 0:\n",
        "        label = \"Normal\"\n",
        "    elif category == 1 :\n",
        "        label = \"Cataract\"\n",
        "    elif category == 2:\n",
        "        label = \"Diabetes\"\n",
        "    elif category == 3:\n",
        "        label = \"Glaucoma\"\n",
        "    elif category == 4:\n",
        "        label = \"Hypertension\"\n",
        "    elif category == 5:\n",
        "        label = \"Myopia\"\n",
        "    elif category == 6:\n",
        "        label = \"Age Issues\"\n",
        "    else:\n",
        "        label = \"Other\"\n",
        "\n",
        "    if pred_category== 0:\n",
        "        pred_label = \"Normal\"\n",
        "    elif pred_category == 1 :\n",
        "        pred_label = \"Cataract\"\n",
        "    elif pred_category == 2:\n",
        "        pred_label = \"Diabetes\"\n",
        "    elif pred_category == 3:\n",
        "        pred_label = \"Glaucoma\"\n",
        "    elif pred_category == 4:\n",
        "        pred_label = \"Hypertension\"\n",
        "    elif pred_category == 5:\n",
        "        pred_label = \"Myopia\"\n",
        "    elif pred_category == 6:\n",
        "        pred_label = \"Age Issues\"\n",
        "    else:\n",
        "        pred_label = \"Other\"\n",
        "\n",
        "    plt.subplot(4,5,i+1)\n",
        "    plt.imshow(image)\n",
        "    plt.xlabel(\"Actual:{}\\nPrediction:{}\".format(label,pred_label))\n",
        "plt.tight_layout()\n"
      ],
      "metadata": {
        "execution": {
          "iopub.status.busy": "2024-07-03T07:21:32.44123Z",
          "iopub.execute_input": "2024-07-03T07:21:32.442024Z",
          "iopub.status.idle": "2024-07-03T07:21:34.961206Z",
          "shell.execute_reply.started": "2024-07-03T07:21:32.441992Z",
          "shell.execute_reply": "2024-07-03T07:21:34.960172Z"
        },
        "trusted": true,
        "id": "erlzQ_R9-b5_"
      },
      "execution_count": null,
      "outputs": []
    },
    {
      "cell_type": "code",
      "source": [
        "model.save(\"disease_with_iris_classification.h5\")"
      ],
      "metadata": {
        "execution": {
          "iopub.status.busy": "2024-07-03T07:21:39.829675Z",
          "iopub.execute_input": "2024-07-03T07:21:39.830724Z",
          "iopub.status.idle": "2024-07-03T07:21:40.155018Z",
          "shell.execute_reply.started": "2024-07-03T07:21:39.830671Z",
          "shell.execute_reply": "2024-07-03T07:21:40.154007Z"
        },
        "trusted": true,
        "id": "GF8f3XLO-b6A"
      },
      "execution_count": null,
      "outputs": []
    },
    {
      "cell_type": "code",
      "source": [
        "from tensorflow.keras.models import load_model\n",
        "model = load_model('/kaggle/working/disease_with_iris_classification.h5')"
      ],
      "metadata": {
        "execution": {
          "iopub.status.busy": "2024-07-03T08:44:21.891557Z",
          "iopub.execute_input": "2024-07-03T08:44:21.892554Z",
          "iopub.status.idle": "2024-07-03T08:44:22.880518Z",
          "shell.execute_reply.started": "2024-07-03T08:44:21.892505Z",
          "shell.execute_reply": "2024-07-03T08:44:22.879531Z"
        },
        "trusted": true,
        "id": "5DrqwGha-b6B"
      },
      "execution_count": null,
      "outputs": []
    },
    {
      "cell_type": "code",
      "source": [
        "new_image_path = '/kaggle/input/ocular-disease-recognition-odir5k/ODIR-5K/ODIR-5K/Testing Images/1000_right.jpg'\n",
        "new_image = cv2.imread(new_image_path)\n",
        "new_image = cv2.resize(new_image, (224, 224))\n",
        "new_image = new_image / 255.0\n",
        "\n",
        "# Perform inference\n",
        "predictions = model.predict(np.expand_dims(new_image, axis=0))\n",
        "\n",
        "# Get the class with the highest probability\n",
        "predicted_class = np.argmax(predictions)\n",
        "\n",
        "# Now 'predicted_class' contains the predicted class label for the new image\n",
        "print(f\"Actual: {label}\")\n",
        "print(f\"Predicted class: {pred_label}\")"
      ],
      "metadata": {
        "execution": {
          "iopub.status.busy": "2024-07-03T08:46:38.496213Z",
          "iopub.execute_input": "2024-07-03T08:46:38.497165Z",
          "iopub.status.idle": "2024-07-03T08:46:38.624341Z",
          "shell.execute_reply.started": "2024-07-03T08:46:38.497122Z",
          "shell.execute_reply": "2024-07-03T08:46:38.623248Z"
        },
        "trusted": true,
        "id": "kZMHsNXK-b6B"
      },
      "execution_count": null,
      "outputs": []
    },
    {
      "cell_type": "code",
      "source": [
        "!zip -r file.zip /kaggle/working"
      ],
      "metadata": {
        "execution": {
          "iopub.status.busy": "2023-10-30T14:31:43.674764Z",
          "iopub.execute_input": "2023-10-30T14:31:43.675072Z",
          "iopub.status.idle": "2023-10-30T14:31:53.088322Z",
          "shell.execute_reply.started": "2023-10-30T14:31:43.675042Z",
          "shell.execute_reply": "2023-10-30T14:31:53.08708Z"
        },
        "trusted": true,
        "id": "DnHjAZ5A-b6C"
      },
      "execution_count": null,
      "outputs": []
    },
    {
      "cell_type": "code",
      "source": [
        "from IPython.display import FileLink\n",
        "FileLink(r'file.zip')"
      ],
      "metadata": {
        "execution": {
          "iopub.status.busy": "2023-10-30T14:31:53.090481Z",
          "iopub.execute_input": "2023-10-30T14:31:53.090902Z",
          "iopub.status.idle": "2023-10-30T14:31:53.098345Z",
          "shell.execute_reply.started": "2023-10-30T14:31:53.090859Z",
          "shell.execute_reply": "2023-10-30T14:31:53.097365Z"
        },
        "trusted": true,
        "id": "tCNPte0Z-b6C"
      },
      "execution_count": null,
      "outputs": []
    },
    {
      "cell_type": "code",
      "source": [],
      "metadata": {
        "trusted": true,
        "id": "XQ6qIrzV-b6D"
      },
      "execution_count": null,
      "outputs": []
    },
    {
      "cell_type": "code",
      "source": [],
      "metadata": {
        "trusted": true,
        "id": "PPDpMs0R-b6D"
      },
      "execution_count": null,
      "outputs": []
    },
    {
      "cell_type": "code",
      "source": [],
      "metadata": {
        "id": "7u8yUB1l-b6D"
      },
      "execution_count": null,
      "outputs": []
    }
  ]
}